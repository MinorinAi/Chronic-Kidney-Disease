{
 "cells": [
  {
   "cell_type": "markdown",
   "id": "c29a7d40",
   "metadata": {
    "papermill": {
     "duration": 0.004924,
     "end_time": "2025-04-12T08:54:43.090532",
     "exception": false,
     "start_time": "2025-04-12T08:54:43.085608",
     "status": "completed"
    },
    "tags": []
   },
   "source": [
    "# Chronic Kidney Disease and Preventive Medicine\n",
    "In this notebook, we will investigate the association between chronic kidney disease and factors.\n",
    "The results of the study will be used to examine how healthcare professionals involved in preventive medicine need to approach the issue.\n",
    "Chi-square test and logistic regression analysis were used in this analysis."
   ]
  },
  {
   "cell_type": "markdown",
   "id": "5234936e",
   "metadata": {
    "papermill": {
     "duration": 0.003609,
     "end_time": "2025-04-12T08:54:43.098241",
     "exception": false,
     "start_time": "2025-04-12T08:54:43.094632",
     "status": "completed"
    },
    "tags": []
   },
   "source": [
    "## Dataset Source\n",
    "This dataset is based on the synthetic Chronic Kidney Disease dataset created by Rabie El Kharoua, originally shared on Kaggle:  \n",
    "https://www.kaggle.com/datasets/rabieelkharoua/chronic-kidney-disease-dataset-analysis  \n",
    "\n",
    "The dataset is licensed under [Creative Commons Attribution 4.0 International (CC BY 4.0)](https://creativecommons.org/licenses/by/4.0/), which permits unrestricted use, distribution, and reproduction in any medium, provided the original author is credited.\n"
   ]
  },
  {
   "cell_type": "code",
   "execution_count": 1,
   "id": "3d8fe4cf",
   "metadata": {
    "_cell_guid": "b1076dfc-b9ad-4769-8c92-a6c4dae69d19",
    "_uuid": "8f2839f25d086af736a60e9eeb907d3b93b6e0e5",
    "execution": {
     "iopub.execute_input": "2025-04-12T08:54:43.107174Z",
     "iopub.status.busy": "2025-04-12T08:54:43.106887Z",
     "iopub.status.idle": "2025-04-12T08:54:44.827474Z",
     "shell.execute_reply": "2025-04-12T08:54:44.826466Z"
    },
    "papermill": {
     "duration": 1.726919,
     "end_time": "2025-04-12T08:54:44.829074",
     "exception": false,
     "start_time": "2025-04-12T08:54:43.102155",
     "status": "completed"
    },
    "tags": []
   },
   "outputs": [
    {
     "name": "stdout",
     "output_type": "stream",
     "text": [
      "/kaggle/input/chronic-kidney-disease-dataset-analysis/Chronic_Kidney_Dsease_data.csv\n"
     ]
    }
   ],
   "source": [
    "# This Python 3 environment comes with many helpful analytics libraries installed\n",
    "# It is defined by the kaggle/python Docker image: https://github.com/kaggle/docker-python\n",
    "# For example, here's several helpful packages to load\n",
    "\n",
    "import numpy as np # linear algebra\n",
    "import pandas as pd # data processing, CSV file I/O (e.g. pd.read_csv)\n",
    "\n",
    "# Input data files are available in the read-only \"../input/\" directory\n",
    "# For example, running this (by clicking run or pressing Shift+Enter) will list all files under the input directory\n",
    "\n",
    "import os\n",
    "for dirname, _, filenames in os.walk('/kaggle/input'):\n",
    "    for filename in filenames:\n",
    "        print(os.path.join(dirname, filename))\n",
    "\n",
    "# You can write up to 20GB to the current directory (/kaggle/working/) that gets preserved as output when you create a version using \"Save & Run All\" \n",
    "# You can also write temporary files to /kaggle/temp/, but they won't be saved outside of the current session"
   ]
  },
  {
   "cell_type": "markdown",
   "id": "268f46fa",
   "metadata": {
    "papermill": {
     "duration": 0.00389,
     "end_time": "2025-04-12T08:54:44.837247",
     "exception": false,
     "start_time": "2025-04-12T08:54:44.833357",
     "status": "completed"
    },
    "tags": []
   },
   "source": [
    "# Summary of the data"
   ]
  },
  {
   "cell_type": "code",
   "execution_count": 2,
   "id": "99f514ac",
   "metadata": {
    "execution": {
     "iopub.execute_input": "2025-04-12T08:54:44.846323Z",
     "iopub.status.busy": "2025-04-12T08:54:44.845760Z",
     "iopub.status.idle": "2025-04-12T08:54:46.619644Z",
     "shell.execute_reply": "2025-04-12T08:54:46.618636Z"
    },
    "papermill": {
     "duration": 1.780468,
     "end_time": "2025-04-12T08:54:46.621604",
     "exception": false,
     "start_time": "2025-04-12T08:54:44.841136",
     "status": "completed"
    },
    "tags": []
   },
   "outputs": [
    {
     "name": "stdout",
     "output_type": "stream",
     "text": [
      "<class 'pandas.core.frame.DataFrame'>\n",
      "Index: 1659 entries, 1 to 1659\n",
      "Data columns (total 53 columns):\n",
      " #   Column                         Non-Null Count  Dtype  \n",
      "---  ------                         --------------  -----  \n",
      " 0   Age                            1659 non-null   int64  \n",
      " 1   Gender                         1659 non-null   int64  \n",
      " 2   Ethnicity                      1659 non-null   int64  \n",
      " 3   SocioeconomicStatus            1659 non-null   int64  \n",
      " 4   EducationLevel                 1659 non-null   int64  \n",
      " 5   BMI                            1659 non-null   float64\n",
      " 6   Smoking                        1659 non-null   int64  \n",
      " 7   AlcoholConsumption             1659 non-null   float64\n",
      " 8   PhysicalActivity               1659 non-null   float64\n",
      " 9   DietQuality                    1659 non-null   float64\n",
      " 10  SleepQuality                   1659 non-null   float64\n",
      " 11  FamilyHistoryKidneyDisease     1659 non-null   int64  \n",
      " 12  FamilyHistoryHypertension      1659 non-null   int64  \n",
      " 13  FamilyHistoryDiabetes          1659 non-null   int64  \n",
      " 14  PreviousAcuteKidneyInjury      1659 non-null   int64  \n",
      " 15  UrinaryTractInfections         1659 non-null   int64  \n",
      " 16  SystolicBP                     1659 non-null   int64  \n",
      " 17  DiastolicBP                    1659 non-null   int64  \n",
      " 18  FastingBloodSugar              1659 non-null   float64\n",
      " 19  HbA1c                          1659 non-null   float64\n",
      " 20  SerumCreatinine                1659 non-null   float64\n",
      " 21  BUNLevels                      1659 non-null   float64\n",
      " 22  GFR                            1659 non-null   float64\n",
      " 23  ProteinInUrine                 1659 non-null   float64\n",
      " 24  ACR                            1659 non-null   float64\n",
      " 25  SerumElectrolytesSodium        1659 non-null   float64\n",
      " 26  SerumElectrolytesPotassium     1659 non-null   float64\n",
      " 27  SerumElectrolytesCalcium       1659 non-null   float64\n",
      " 28  SerumElectrolytesPhosphorus    1659 non-null   float64\n",
      " 29  HemoglobinLevels               1659 non-null   float64\n",
      " 30  CholesterolTotal               1659 non-null   float64\n",
      " 31  CholesterolLDL                 1659 non-null   float64\n",
      " 32  CholesterolHDL                 1659 non-null   float64\n",
      " 33  CholesterolTriglycerides       1659 non-null   float64\n",
      " 34  ACEInhibitors                  1659 non-null   int64  \n",
      " 35  Diuretics                      1659 non-null   int64  \n",
      " 36  NSAIDsUse                      1659 non-null   float64\n",
      " 37  Statins                        1659 non-null   int64  \n",
      " 38  AntidiabeticMedications        1659 non-null   int64  \n",
      " 39  Edema                          1659 non-null   int64  \n",
      " 40  FatigueLevels                  1659 non-null   float64\n",
      " 41  NauseaVomiting                 1659 non-null   float64\n",
      " 42  MuscleCramps                   1659 non-null   float64\n",
      " 43  Itching                        1659 non-null   float64\n",
      " 44  QualityOfLifeScore             1659 non-null   float64\n",
      " 45  HeavyMetalsExposure            1659 non-null   int64  \n",
      " 46  OccupationalExposureChemicals  1659 non-null   int64  \n",
      " 47  WaterQuality                   1659 non-null   int64  \n",
      " 48  MedicalCheckupsFrequency       1659 non-null   float64\n",
      " 49  MedicationAdherence            1659 non-null   float64\n",
      " 50  HealthLiteracy                 1659 non-null   float64\n",
      " 51  Diagnosis                      1659 non-null   int64  \n",
      " 52  DoctorInCharge                 1659 non-null   object \n",
      "dtypes: float64(30), int64(22), object(1)\n",
      "memory usage: 699.9+ KB\n",
      "None\n",
      "Age                              0\n",
      "Gender                           0\n",
      "Ethnicity                        0\n",
      "SocioeconomicStatus              0\n",
      "EducationLevel                   0\n",
      "BMI                              0\n",
      "Smoking                          0\n",
      "AlcoholConsumption               0\n",
      "PhysicalActivity                 0\n",
      "DietQuality                      0\n",
      "SleepQuality                     0\n",
      "FamilyHistoryKidneyDisease       0\n",
      "FamilyHistoryHypertension        0\n",
      "FamilyHistoryDiabetes            0\n",
      "PreviousAcuteKidneyInjury        0\n",
      "UrinaryTractInfections           0\n",
      "SystolicBP                       0\n",
      "DiastolicBP                      0\n",
      "FastingBloodSugar                0\n",
      "HbA1c                            0\n",
      "SerumCreatinine                  0\n",
      "BUNLevels                        0\n",
      "GFR                              0\n",
      "ProteinInUrine                   0\n",
      "ACR                              0\n",
      "SerumElectrolytesSodium          0\n",
      "SerumElectrolytesPotassium       0\n",
      "SerumElectrolytesCalcium         0\n",
      "SerumElectrolytesPhosphorus      0\n",
      "HemoglobinLevels                 0\n",
      "CholesterolTotal                 0\n",
      "CholesterolLDL                   0\n",
      "CholesterolHDL                   0\n",
      "CholesterolTriglycerides         0\n",
      "ACEInhibitors                    0\n",
      "Diuretics                        0\n",
      "NSAIDsUse                        0\n",
      "Statins                          0\n",
      "AntidiabeticMedications          0\n",
      "Edema                            0\n",
      "FatigueLevels                    0\n",
      "NauseaVomiting                   0\n",
      "MuscleCramps                     0\n",
      "Itching                          0\n",
      "QualityOfLifeScore               0\n",
      "HeavyMetalsExposure              0\n",
      "OccupationalExposureChemicals    0\n",
      "WaterQuality                     0\n",
      "MedicalCheckupsFrequency         0\n",
      "MedicationAdherence              0\n",
      "HealthLiteracy                   0\n",
      "Diagnosis                        0\n",
      "DoctorInCharge                   0\n",
      "dtype: int64\n",
      "               Age       Gender   Ethnicity  SocioeconomicStatus  \\\n",
      "count  1659.000000  1659.000000  1659.00000          1659.000000   \n",
      "mean     54.441230     0.515371     0.71308             0.977697   \n",
      "std      20.549757     0.499914     1.00043             0.776686   \n",
      "min      20.000000     0.000000     0.00000             0.000000   \n",
      "25%      36.000000     0.000000     0.00000             0.000000   \n",
      "50%      54.000000     1.000000     0.00000             1.000000   \n",
      "75%      72.000000     1.000000     1.00000             2.000000   \n",
      "max      90.000000     1.000000     3.00000             2.000000   \n",
      "\n",
      "       EducationLevel          BMI      Smoking  AlcoholConsumption  \\\n",
      "count     1659.000000  1659.000000  1659.000000         1659.000000   \n",
      "mean         1.693189    27.620049     0.292948            9.969831   \n",
      "std          0.910611     7.288670     0.455252            5.798787   \n",
      "min          0.000000    15.033888     0.000000            0.021740   \n",
      "25%          1.000000    21.471449     0.000000            5.051156   \n",
      "50%          2.000000    27.652077     0.000000            9.951503   \n",
      "75%          2.000000    34.015849     1.000000           14.967100   \n",
      "max          3.000000    39.993532     1.000000           19.992713   \n",
      "\n",
      "       PhysicalActivity  DietQuality  ...  MuscleCramps      Itching  \\\n",
      "count       1659.000000  1659.000000  ...   1659.000000  1659.000000   \n",
      "mean           5.024247     5.028544  ...      3.525510     5.054869   \n",
      "std            2.866274     2.865777  ...      2.026131     2.880460   \n",
      "min            0.001186     0.002407  ...      0.006327     0.013697   \n",
      "25%            2.555038     2.558443  ...      1.820793     2.532867   \n",
      "50%            5.072395     4.989810  ...      3.572522     5.087086   \n",
      "75%            7.460563     7.428290  ...      5.254956     7.552093   \n",
      "max            9.998167     9.998927  ...      6.984636     9.998313   \n",
      "\n",
      "       QualityOfLifeScore  HeavyMetalsExposure  OccupationalExposureChemicals  \\\n",
      "count         1659.000000          1659.000000                    1659.000000   \n",
      "mean            49.730659             0.044002                       0.103074   \n",
      "std             27.827593             0.205162                       0.304147   \n",
      "min              0.087256             0.000000                       0.000000   \n",
      "25%             26.991708             0.000000                       0.000000   \n",
      "50%             48.970075             0.000000                       0.000000   \n",
      "75%             73.913997             0.000000                       0.000000   \n",
      "max             99.987510             1.000000                       1.000000   \n",
      "\n",
      "       WaterQuality  MedicalCheckupsFrequency  MedicationAdherence  \\\n",
      "count   1659.000000               1659.000000          1659.000000   \n",
      "mean       0.197107                  2.000336             4.947788   \n",
      "std        0.397934                  1.141635             2.869959   \n",
      "min        0.000000                  0.001082             0.005392   \n",
      "25%        0.000000                  1.005802             2.498119   \n",
      "50%        0.000000                  2.040635             4.974069   \n",
      "75%        0.000000                  2.947213             7.499783   \n",
      "max        1.000000                  3.999469             9.992345   \n",
      "\n",
      "       HealthLiteracy    Diagnosis  \n",
      "count     1659.000000  1659.000000  \n",
      "mean         5.144973     0.918626  \n",
      "std          2.901138     0.273492  \n",
      "min          0.004436     0.000000  \n",
      "25%          2.569561     1.000000  \n",
      "50%          5.182949     1.000000  \n",
      "75%          7.733253     1.000000  \n",
      "max          9.993754     1.000000  \n",
      "\n",
      "[8 rows x 52 columns]\n"
     ]
    }
   ],
   "source": [
    "import numpy as np\n",
    "import pandas as pd\n",
    "import matplotlib.pyplot as plt\n",
    "import seaborn as sns\n",
    "from scipy import stats\n",
    "\n",
    "# Read CSV from Kaggle dataset\n",
    "file_path = '/kaggle/input/chronic-kidney-disease-dataset-analysis/Chronic_Kidney_Dsease_data.csv'\n",
    "df = pd.read_csv(file_path)\n",
    "df.set_index('PatientID', inplace=True)\n",
    "\n",
    "# Confirmation of basic information\n",
    "print(df.info())\n",
    "print(df.isnull().sum())\n",
    "print(df.describe())"
   ]
  },
  {
   "cell_type": "code",
   "execution_count": 3,
   "id": "253bad3c",
   "metadata": {
    "execution": {
     "iopub.execute_input": "2025-04-12T08:54:46.631135Z",
     "iopub.status.busy": "2025-04-12T08:54:46.630872Z",
     "iopub.status.idle": "2025-04-12T08:54:46.639270Z",
     "shell.execute_reply": "2025-04-12T08:54:46.638607Z"
    },
    "papermill": {
     "duration": 0.014591,
     "end_time": "2025-04-12T08:54:46.640570",
     "exception": false,
     "start_time": "2025-04-12T08:54:46.625979",
     "status": "completed"
    },
    "tags": []
   },
   "outputs": [
    {
     "data": {
      "text/plain": [
       "Diagnosis\n",
       "1    0.918626\n",
       "0    0.081374\n",
       "Name: proportion, dtype: float64"
      ]
     },
     "execution_count": 3,
     "metadata": {},
     "output_type": "execute_result"
    }
   ],
   "source": [
    "df['Diagnosis'].value_counts(normalize=True)"
   ]
  },
  {
   "cell_type": "markdown",
   "id": "dcd719a5",
   "metadata": {
    "papermill": {
     "duration": 0.003942,
     "end_time": "2025-04-12T08:54:46.648679",
     "exception": false,
     "start_time": "2025-04-12T08:54:46.644737",
     "status": "completed"
    },
    "tags": []
   },
   "source": [
    "# Correlation between Environmental and Occupational Exposures"
   ]
  },
  {
   "cell_type": "code",
   "execution_count": 4,
   "id": "ecc14a16",
   "metadata": {
    "execution": {
     "iopub.execute_input": "2025-04-12T08:54:46.658222Z",
     "iopub.status.busy": "2025-04-12T08:54:46.657488Z",
     "iopub.status.idle": "2025-04-12T08:54:46.685408Z",
     "shell.execute_reply": "2025-04-12T08:54:46.684519Z"
    },
    "papermill": {
     "duration": 0.034147,
     "end_time": "2025-04-12T08:54:46.686774",
     "exception": false,
     "start_time": "2025-04-12T08:54:46.652627",
     "status": "completed"
    },
    "tags": []
   },
   "outputs": [
    {
     "name": "stdout",
     "output_type": "stream",
     "text": [
      "Diagnosis              0     1\n",
      "HeavyMetalsExposure           \n",
      "0                    130  1456\n",
      "1                      5    68\n",
      "Chi-square test results:\n",
      "Chi2 = 0.037, p-value = 0.8471\n",
      "No significant association between chronic kidney disease and HeavyMetalsExposure\n"
     ]
    }
   ],
   "source": [
    "# Correlation between Chronic Kidney Disease and HeavyMetalsExposure\n",
    "ckd_heavymetal = pd.crosstab(df['HeavyMetalsExposure'], df['Diagnosis'])\n",
    "print(ckd_heavymetal)\n",
    "\n",
    "chi2, p, dof, expected = stats.chi2_contingency(ckd_heavymetal)\n",
    "\n",
    "print(\"Chi-square test results:\")\n",
    "print(f\"Chi2 = {chi2:.3f}, p-value = {p:.4f}\")\n",
    "if p < 0.05:\n",
    "    print(\"There is a significant association between chronic kidney disease and HeavyMetalsExposure\")\n",
    "else:\n",
    "    print(\"No significant association between chronic kidney disease and HeavyMetalsExposure\")\n",
    "\n"
   ]
  },
  {
   "cell_type": "code",
   "execution_count": 5,
   "id": "45e40991",
   "metadata": {
    "execution": {
     "iopub.execute_input": "2025-04-12T08:54:46.696870Z",
     "iopub.status.busy": "2025-04-12T08:54:46.696154Z",
     "iopub.status.idle": "2025-04-12T08:54:46.709388Z",
     "shell.execute_reply": "2025-04-12T08:54:46.708231Z"
    },
    "papermill": {
     "duration": 0.019482,
     "end_time": "2025-04-12T08:54:46.710755",
     "exception": false,
     "start_time": "2025-04-12T08:54:46.691273",
     "status": "completed"
    },
    "tags": []
   },
   "outputs": [
    {
     "name": "stdout",
     "output_type": "stream",
     "text": [
      "Diagnosis                        0     1\n",
      "OccupationalExposureChemicals           \n",
      "0                              119  1369\n",
      "1                               16   155\n",
      "Chi-square test results:\n",
      "Chi2 = 0.219, p-value = 0.6397\n",
      "No significant association between chronic kidney disease and OccupationalExposureChemicals\n"
     ]
    }
   ],
   "source": [
    "# Correlation between Chronic Kidney Disease and OccupationalExposureChemicals\n",
    "ckd_chemical = pd.crosstab(df['OccupationalExposureChemicals'], df['Diagnosis'])\n",
    "print(ckd_chemical)      \n",
    "\n",
    "\n",
    "chi2, p, dof, expected = stats.chi2_contingency(ckd_chemical)\n",
    "print(\"Chi-square test results:\")\n",
    "\n",
    "print(f\"Chi2 = {chi2:.3f}, p-value = {p:.4f}\")\n",
    "if p < 0.05:\n",
    "    print(\"There is a significant association between chronic kidney disease and OccupationalExposureChemicals\")\n",
    "else:\n",
    "    print(\"No significant association between chronic kidney disease and OccupationalExposureChemicals\")"
   ]
  },
  {
   "cell_type": "code",
   "execution_count": 6,
   "id": "76431d04",
   "metadata": {
    "execution": {
     "iopub.execute_input": "2025-04-12T08:54:46.721061Z",
     "iopub.status.busy": "2025-04-12T08:54:46.720817Z",
     "iopub.status.idle": "2025-04-12T08:54:46.734060Z",
     "shell.execute_reply": "2025-04-12T08:54:46.733159Z"
    },
    "papermill": {
     "duration": 0.020039,
     "end_time": "2025-04-12T08:54:46.735244",
     "exception": false,
     "start_time": "2025-04-12T08:54:46.715205",
     "status": "completed"
    },
    "tags": []
   },
   "outputs": [
    {
     "name": "stdout",
     "output_type": "stream",
     "text": [
      "Diagnosis       0     1\n",
      "WaterQuality           \n",
      "0             105  1227\n",
      "1              30   297\n",
      "Chi-square test results:\n",
      "Chi2 = 0.426, p-value = 0.5141\n",
      "No significant association between chronic kidney disease and WaterQuality\n"
     ]
    }
   ],
   "source": [
    "# Correlation between Chronic Kidney Disease and WaterQuality\n",
    "ckd_waterq = pd.crosstab(df['WaterQuality'], df['Diagnosis'])\n",
    "print(ckd_waterq)      \n",
    "\n",
    "\n",
    "chi2, p, dof, expected = stats.chi2_contingency(ckd_waterq)\n",
    "print(\"Chi-square test results:\")\n",
    "\n",
    "print(f\"Chi2 = {chi2:.3f}, p-value = {p:.4f}\")\n",
    "if p < 0.05:\n",
    "    print(\"There is a significant association between chronic kidney disease and WaterQuality\")\n",
    "else:\n",
    "    print(\"No significant association between chronic kidney disease and WaterQuality\")\n"
   ]
  },
  {
   "cell_type": "markdown",
   "id": "76875a32",
   "metadata": {
    "papermill": {
     "duration": 0.004098,
     "end_time": "2025-04-12T08:54:46.743874",
     "exception": false,
     "start_time": "2025-04-12T08:54:46.739776",
     "status": "completed"
    },
    "tags": []
   },
   "source": [
    "No significant differences were found between all of Heavy metal exposure, Occupation exposure chemicals, Water quality and Chronic Kidney Disease."
   ]
  },
  {
   "cell_type": "markdown",
   "id": "f2e50eb5",
   "metadata": {
    "papermill": {
     "duration": 0.004253,
     "end_time": "2025-04-12T08:54:46.752381",
     "exception": false,
     "start_time": "2025-04-12T08:54:46.748128",
     "status": "completed"
    },
    "tags": []
   },
   "source": [
    "# Correlation between Chronic Kidney Disease and Lifestile Factors "
   ]
  },
  {
   "cell_type": "code",
   "execution_count": 7,
   "id": "5a70504c",
   "metadata": {
    "execution": {
     "iopub.execute_input": "2025-04-12T08:54:46.762482Z",
     "iopub.status.busy": "2025-04-12T08:54:46.761873Z",
     "iopub.status.idle": "2025-04-12T08:54:48.549656Z",
     "shell.execute_reply": "2025-04-12T08:54:48.548584Z"
    },
    "papermill": {
     "duration": 1.794211,
     "end_time": "2025-04-12T08:54:48.550994",
     "exception": false,
     "start_time": "2025-04-12T08:54:46.756783",
     "status": "completed"
    },
    "tags": []
   },
   "outputs": [
    {
     "name": "stdout",
     "output_type": "stream",
     "text": [
      "Optimization terminated successfully.\n",
      "         Current function value: 0.280586\n",
      "         Iterations 7\n",
      "                           Logit Regression Results                           \n",
      "==============================================================================\n",
      "Dep. Variable:              Diagnosis   No. Observations:                 1659\n",
      "Model:                          Logit   Df Residuals:                     1657\n",
      "Method:                           MLE   Df Model:                            1\n",
      "Date:                Sat, 12 Apr 2025   Pseudo R-squ.:                0.005413\n",
      "Time:                        08:54:48   Log-Likelihood:                -465.49\n",
      "converged:                       True   LL-Null:                       -468.03\n",
      "Covariance Type:            nonrobust   LLR p-value:                   0.02439\n",
      "==============================================================================\n",
      "                 coef    std err          z      P>|z|      [0.025      0.975]\n",
      "------------------------------------------------------------------------------\n",
      "const          1.6722      0.340      4.919      0.000       1.006       2.338\n",
      "BMI            0.0278      0.012      2.241      0.025       0.003       0.052\n",
      "==============================================================================\n"
     ]
    }
   ],
   "source": [
    "# Correlation between Chronic Kidney Disease and BMI\n",
    "import statsmodels.api as sm\n",
    "\n",
    "X = sm.add_constant(df['BMI']) \n",
    "y = df['Diagnosis']\n",
    "\n",
    "model = sm.Logit(y, X)\n",
    "result = model.fit()\n",
    "print(result.summary())"
   ]
  },
  {
   "cell_type": "code",
   "execution_count": 8,
   "id": "b0f61adb",
   "metadata": {
    "execution": {
     "iopub.execute_input": "2025-04-12T08:54:48.562012Z",
     "iopub.status.busy": "2025-04-12T08:54:48.561273Z",
     "iopub.status.idle": "2025-04-12T08:54:48.575379Z",
     "shell.execute_reply": "2025-04-12T08:54:48.574441Z"
    },
    "papermill": {
     "duration": 0.02075,
     "end_time": "2025-04-12T08:54:48.576739",
     "exception": false,
     "start_time": "2025-04-12T08:54:48.555989",
     "status": "completed"
    },
    "tags": []
   },
   "outputs": [
    {
     "name": "stdout",
     "output_type": "stream",
     "text": [
      "Diagnosis    0     1\n",
      "Smoking             \n",
      "0          101  1072\n",
      "1           34   452\n",
      "Chi-square test results:\n",
      "Chi2 = 0.992, p-value = 0.3193\n",
      "No significant association between chronic kidney disease and smoking\n"
     ]
    }
   ],
   "source": [
    "# Correlation between Chronic Kidney Disease and Smoking\n",
    "ckd_smoking = pd.crosstab(df['Smoking'], df['Diagnosis'])\n",
    "print(ckd_smoking)      \n",
    "\n",
    "\n",
    "chi2, p, dof, expected = stats.chi2_contingency(ckd_smoking)\n",
    "print(\"Chi-square test results:\")\n",
    "\n",
    "print(f\"Chi2 = {chi2:.3f}, p-value = {p:.4f}\")\n",
    "if p < 0.05:\n",
    "    print(\"There is a significant association between chronic kidney disease and smoking\")\n",
    "else:\n",
    "    print(\"No significant association between chronic kidney disease and smoking\")"
   ]
  },
  {
   "cell_type": "code",
   "execution_count": 9,
   "id": "71163a30",
   "metadata": {
    "execution": {
     "iopub.execute_input": "2025-04-12T08:54:48.587022Z",
     "iopub.status.busy": "2025-04-12T08:54:48.586325Z",
     "iopub.status.idle": "2025-04-12T08:54:48.621908Z",
     "shell.execute_reply": "2025-04-12T08:54:48.620753Z"
    },
    "papermill": {
     "duration": 0.04182,
     "end_time": "2025-04-12T08:54:48.623221",
     "exception": false,
     "start_time": "2025-04-12T08:54:48.581401",
     "status": "completed"
    },
    "tags": []
   },
   "outputs": [
    {
     "name": "stdout",
     "output_type": "stream",
     "text": [
      "Diagnosis           0  1\n",
      "AlcoholConsumption      \n",
      "0.021740            0  1\n",
      "0.027360            0  1\n",
      "0.043682            0  1\n",
      "0.053363            0  1\n",
      "0.059254            0  1\n",
      "...                .. ..\n",
      "19.950964           0  1\n",
      "19.959241           0  1\n",
      "19.981815           0  1\n",
      "19.986598           0  1\n",
      "19.992713           0  1\n",
      "\n",
      "[1659 rows x 2 columns]\n",
      "Chi-square test results:\n",
      "Chi2 = 1659.000, p-value = 0.4885\n",
      "No significant association between chronic kidney disease and AlcoholConsumption\n"
     ]
    }
   ],
   "source": [
    "# Correlatinon between Chronic Kidney Disease and AlcoholConsumption\n",
    "ckd_alcohol = pd.crosstab(df['AlcoholConsumption'], df['Diagnosis'])\n",
    "print(ckd_alcohol)      \n",
    "\n",
    "\n",
    "chi2, p, dof, expected = stats.chi2_contingency(ckd_alcohol)\n",
    "print(\"Chi-square test results:\")\n",
    "\n",
    "print(f\"Chi2 = {chi2:.3f}, p-value = {p:.4f}\")\n",
    "if p < 0.05:\n",
    "    print(\"There is a significant association between chronic kidney disease and AlcoholConsumption\")\n",
    "else:\n",
    "    print(\"No significant association between chronic kidney disease and AlcoholConsumption\")"
   ]
  },
  {
   "cell_type": "code",
   "execution_count": 10,
   "id": "d00b98dc",
   "metadata": {
    "execution": {
     "iopub.execute_input": "2025-04-12T08:54:48.634307Z",
     "iopub.status.busy": "2025-04-12T08:54:48.633818Z",
     "iopub.status.idle": "2025-04-12T08:54:48.658052Z",
     "shell.execute_reply": "2025-04-12T08:54:48.656991Z"
    },
    "papermill": {
     "duration": 0.031337,
     "end_time": "2025-04-12T08:54:48.659481",
     "exception": false,
     "start_time": "2025-04-12T08:54:48.628144",
     "status": "completed"
    },
    "tags": []
   },
   "outputs": [
    {
     "name": "stdout",
     "output_type": "stream",
     "text": [
      "Optimization terminated successfully.\n",
      "         Current function value: 0.281881\n",
      "         Iterations 6\n",
      "                           Logit Regression Results                           \n",
      "==============================================================================\n",
      "Dep. Variable:              Diagnosis   No. Observations:                 1659\n",
      "Model:                          Logit   Df Residuals:                     1657\n",
      "Method:                           MLE   Df Model:                            1\n",
      "Date:                Sat, 12 Apr 2025   Pseudo R-squ.:               0.0008234\n",
      "Time:                        08:54:48   Log-Likelihood:                -467.64\n",
      "converged:                       True   LL-Null:                       -468.03\n",
      "Covariance Type:            nonrobust   LLR p-value:                    0.3800\n",
      "====================================================================================\n",
      "                       coef    std err          z      P>|z|      [0.025      0.975]\n",
      "------------------------------------------------------------------------------------\n",
      "const                2.5648      0.187     13.741      0.000       2.199       2.931\n",
      "PhysicalActivity    -0.0275      0.031     -0.877      0.380      -0.089       0.034\n",
      "====================================================================================\n"
     ]
    }
   ],
   "source": [
    "# Correlatinon between Chronic Kidney Disease and PhysicalActivity\n",
    "X = sm.add_constant(df['PhysicalActivity']) \n",
    "y = df['Diagnosis']\n",
    "\n",
    "model = sm.Logit(y, X)\n",
    "result = model.fit()\n",
    "print(result.summary())"
   ]
  },
  {
   "cell_type": "code",
   "execution_count": 11,
   "id": "2fd45654",
   "metadata": {
    "execution": {
     "iopub.execute_input": "2025-04-12T08:54:48.670850Z",
     "iopub.status.busy": "2025-04-12T08:54:48.670079Z",
     "iopub.status.idle": "2025-04-12T08:54:48.693887Z",
     "shell.execute_reply": "2025-04-12T08:54:48.692897Z"
    },
    "papermill": {
     "duration": 0.030558,
     "end_time": "2025-04-12T08:54:48.695285",
     "exception": false,
     "start_time": "2025-04-12T08:54:48.664727",
     "status": "completed"
    },
    "tags": []
   },
   "outputs": [
    {
     "name": "stdout",
     "output_type": "stream",
     "text": [
      "Optimization terminated successfully.\n",
      "         Current function value: 0.281122\n",
      "         Iterations 7\n",
      "                           Logit Regression Results                           \n",
      "==============================================================================\n",
      "Dep. Variable:              Diagnosis   No. Observations:                 1659\n",
      "Model:                          Logit   Df Residuals:                     1657\n",
      "Method:                           MLE   Df Model:                            1\n",
      "Date:                Sat, 12 Apr 2025   Pseudo R-squ.:                0.003515\n",
      "Time:                        08:54:48   Log-Likelihood:                -466.38\n",
      "converged:                       True   LL-Null:                       -468.03\n",
      "Covariance Type:            nonrobust   LLR p-value:                   0.06970\n",
      "===============================================================================\n",
      "                  coef    std err          z      P>|z|      [0.025      0.975]\n",
      "-------------------------------------------------------------------------------\n",
      "const           2.7216      0.193     14.099      0.000       2.343       3.100\n",
      "DietQuality    -0.0570      0.032     -1.808      0.071      -0.119       0.005\n",
      "===============================================================================\n"
     ]
    }
   ],
   "source": [
    "# Correlatinon between Chronic Kidney Disease and DietQuality\n",
    "X = sm.add_constant(df['DietQuality']) \n",
    "y = df['Diagnosis']\n",
    "\n",
    "model = sm.Logit(y, X)\n",
    "result = model.fit()\n",
    "print(result.summary())"
   ]
  },
  {
   "cell_type": "code",
   "execution_count": 12,
   "id": "6d8dc6f4",
   "metadata": {
    "execution": {
     "iopub.execute_input": "2025-04-12T08:54:48.706013Z",
     "iopub.status.busy": "2025-04-12T08:54:48.705724Z",
     "iopub.status.idle": "2025-04-12T08:54:48.729704Z",
     "shell.execute_reply": "2025-04-12T08:54:48.728684Z"
    },
    "papermill": {
     "duration": 0.030804,
     "end_time": "2025-04-12T08:54:48.731112",
     "exception": false,
     "start_time": "2025-04-12T08:54:48.700308",
     "status": "completed"
    },
    "tags": []
   },
   "outputs": [
    {
     "name": "stdout",
     "output_type": "stream",
     "text": [
      "Optimization terminated successfully.\n",
      "         Current function value: 0.281886\n",
      "         Iterations 6\n",
      "                           Logit Regression Results                           \n",
      "==============================================================================\n",
      "Dep. Variable:              Diagnosis   No. Observations:                 1659\n",
      "Model:                          Logit   Df Residuals:                     1657\n",
      "Method:                           MLE   Df Model:                            1\n",
      "Date:                Sat, 12 Apr 2025   Pseudo R-squ.:               0.0008037\n",
      "Time:                        08:54:48   Log-Likelihood:                -467.65\n",
      "converged:                       True   LL-Null:                       -468.03\n",
      "Covariance Type:            nonrobust   LLR p-value:                    0.3857\n",
      "================================================================================\n",
      "                   coef    std err          z      P>|z|      [0.025      0.975]\n",
      "--------------------------------------------------------------------------------\n",
      "const            2.1084      0.372      5.663      0.000       1.379       2.838\n",
      "SleepQuality     0.0458      0.053      0.866      0.386      -0.058       0.149\n",
      "================================================================================\n"
     ]
    }
   ],
   "source": [
    "# Correlatinon between Chronic Kidney Disease and SleepQuality\n",
    "X = sm.add_constant(df['SleepQuality']) \n",
    "y = df['Diagnosis']\n",
    "\n",
    "model = sm.Logit(y, X)\n",
    "result = model.fit()\n",
    "print(result.summary())"
   ]
  },
  {
   "cell_type": "markdown",
   "id": "6698fc2e",
   "metadata": {
    "papermill": {
     "duration": 0.00456,
     "end_time": "2025-04-12T08:54:48.740751",
     "exception": false,
     "start_time": "2025-04-12T08:54:48.736191",
     "status": "completed"
    },
    "tags": []
   },
   "source": [
    "A weak association between BMI and chronic kidney disease may be observed.\n",
    "No significant differences were found between Smoking, Alcohol Consumption, Physical Activity, Diet Quality, Sleep Quality and Chronic Kidney Disease."
   ]
  },
  {
   "cell_type": "markdown",
   "id": "af8329b5",
   "metadata": {
    "papermill": {
     "duration": 0.004391,
     "end_time": "2025-04-12T08:54:48.749919",
     "exception": false,
     "start_time": "2025-04-12T08:54:48.745528",
     "status": "completed"
    },
    "tags": []
   },
   "source": [
    "# Correlation between Chronic Kidney Disease and Health Behaviors"
   ]
  },
  {
   "cell_type": "code",
   "execution_count": 13,
   "id": "b1da79a2",
   "metadata": {
    "execution": {
     "iopub.execute_input": "2025-04-12T08:54:48.760764Z",
     "iopub.status.busy": "2025-04-12T08:54:48.760204Z",
     "iopub.status.idle": "2025-04-12T08:54:48.786589Z",
     "shell.execute_reply": "2025-04-12T08:54:48.785589Z"
    },
    "papermill": {
     "duration": 0.033342,
     "end_time": "2025-04-12T08:54:48.787971",
     "exception": false,
     "start_time": "2025-04-12T08:54:48.754629",
     "status": "completed"
    },
    "tags": []
   },
   "outputs": [
    {
     "name": "stdout",
     "output_type": "stream",
     "text": [
      "Optimization terminated successfully.\n",
      "         Current function value: 0.282037\n",
      "         Iterations 6\n",
      "                           Logit Regression Results                           \n",
      "==============================================================================\n",
      "Dep. Variable:              Diagnosis   No. Observations:                 1659\n",
      "Model:                          Logit   Df Residuals:                     1657\n",
      "Method:                           MLE   Df Model:                            1\n",
      "Date:                Sat, 12 Apr 2025   Pseudo R-squ.:               0.0002713\n",
      "Time:                        08:54:48   Log-Likelihood:                -467.90\n",
      "converged:                       True   LL-Null:                       -468.03\n",
      "Covariance Type:            nonrobust   LLR p-value:                    0.6143\n",
      "============================================================================================\n",
      "                               coef    std err          z      P>|z|      [0.025      0.975]\n",
      "--------------------------------------------------------------------------------------------\n",
      "const                        2.3453      0.178     13.153      0.000       1.996       2.695\n",
      "MedicalCheckupsFrequency     0.0397      0.079      0.504      0.614      -0.115       0.194\n",
      "============================================================================================\n"
     ]
    }
   ],
   "source": [
    "# Correlatinon between Chronic Kidney Disease and MedicalCheckupsFrequency\n",
    "X = sm.add_constant(df['MedicalCheckupsFrequency']) \n",
    "y = df['Diagnosis']\n",
    "\n",
    "model = sm.Logit(y, X)\n",
    "result = model.fit()\n",
    "print(result.summary())"
   ]
  },
  {
   "cell_type": "code",
   "execution_count": 14,
   "id": "1218fda1",
   "metadata": {
    "execution": {
     "iopub.execute_input": "2025-04-12T08:54:48.799758Z",
     "iopub.status.busy": "2025-04-12T08:54:48.799163Z",
     "iopub.status.idle": "2025-04-12T08:54:48.824942Z",
     "shell.execute_reply": "2025-04-12T08:54:48.823770Z"
    },
    "papermill": {
     "duration": 0.033259,
     "end_time": "2025-04-12T08:54:48.826408",
     "exception": false,
     "start_time": "2025-04-12T08:54:48.793149",
     "status": "completed"
    },
    "tags": []
   },
   "outputs": [
    {
     "name": "stdout",
     "output_type": "stream",
     "text": [
      "Optimization terminated successfully.\n",
      "         Current function value: 0.282112\n",
      "         Iterations 6\n",
      "                           Logit Regression Results                           \n",
      "==============================================================================\n",
      "Dep. Variable:              Diagnosis   No. Observations:                 1659\n",
      "Model:                          Logit   Df Residuals:                     1657\n",
      "Method:                           MLE   Df Model:                            1\n",
      "Date:                Sat, 12 Apr 2025   Pseudo R-squ.:               4.158e-06\n",
      "Time:                        08:54:48   Log-Likelihood:                -468.02\n",
      "converged:                       True   LL-Null:                       -468.03\n",
      "Covariance Type:            nonrobust   LLR p-value:                    0.9503\n",
      "=======================================================================================\n",
      "                          coef    std err          z      P>|z|      [0.025      0.975]\n",
      "---------------------------------------------------------------------------------------\n",
      "const                   2.4142      0.179     13.513      0.000       2.064       2.764\n",
      "MedicationAdherence     0.0020      0.031      0.062      0.950      -0.059       0.063\n",
      "=======================================================================================\n"
     ]
    }
   ],
   "source": [
    "# Correlatinon between Chronic Kidney Disease and MedicationAdherence\n",
    "X = sm.add_constant(df['MedicationAdherence']) \n",
    "y = df['Diagnosis']\n",
    "\n",
    "model = sm.Logit(y, X)\n",
    "result = model.fit()\n",
    "print(result.summary())"
   ]
  },
  {
   "cell_type": "code",
   "execution_count": 15,
   "id": "e6543db4",
   "metadata": {
    "execution": {
     "iopub.execute_input": "2025-04-12T08:54:48.838131Z",
     "iopub.status.busy": "2025-04-12T08:54:48.837533Z",
     "iopub.status.idle": "2025-04-12T08:54:48.862654Z",
     "shell.execute_reply": "2025-04-12T08:54:48.861404Z"
    },
    "papermill": {
     "duration": 0.032333,
     "end_time": "2025-04-12T08:54:48.864195",
     "exception": false,
     "start_time": "2025-04-12T08:54:48.831862",
     "status": "completed"
    },
    "tags": []
   },
   "outputs": [
    {
     "name": "stdout",
     "output_type": "stream",
     "text": [
      "Optimization terminated successfully.\n",
      "         Current function value: 0.282100\n",
      "         Iterations 6\n",
      "                           Logit Regression Results                           \n",
      "==============================================================================\n",
      "Dep. Variable:              Diagnosis   No. Observations:                 1659\n",
      "Model:                          Logit   Df Residuals:                     1657\n",
      "Method:                           MLE   Df Model:                            1\n",
      "Date:                Sat, 12 Apr 2025   Pseudo R-squ.:               4.766e-05\n",
      "Time:                        08:54:48   Log-Likelihood:                -468.00\n",
      "converged:                       True   LL-Null:                       -468.03\n",
      "Covariance Type:            nonrobust   LLR p-value:                    0.8327\n",
      "==================================================================================\n",
      "                     coef    std err          z      P>|z|      [0.025      0.975]\n",
      "----------------------------------------------------------------------------------\n",
      "const              2.3903      0.182     13.163      0.000       2.034       2.746\n",
      "HealthLiteracy     0.0065      0.031      0.211      0.833      -0.054       0.067\n",
      "==================================================================================\n"
     ]
    }
   ],
   "source": [
    "# Correlatinon between Chronic Kidney Disease and MedicationAdherence\n",
    "X = sm.add_constant(df['HealthLiteracy']) \n",
    "y = df['Diagnosis']\n",
    "\n",
    "model = sm.Logit(y, X)\n",
    "result = model.fit()\n",
    "print(result.summary())"
   ]
  },
  {
   "cell_type": "markdown",
   "id": "f003e865",
   "metadata": {
    "papermill": {
     "duration": 0.00486,
     "end_time": "2025-04-12T08:54:48.874377",
     "exception": false,
     "start_time": "2025-04-12T08:54:48.869517",
     "status": "completed"
    },
    "tags": []
   },
   "source": [
    "No significant differences were found between Medical Checkups Frequency,Medication Adherence,Health Literacy and Chronic Kidney Disease."
   ]
  },
  {
   "cell_type": "markdown",
   "id": "6cb10d67",
   "metadata": {
    "papermill": {
     "duration": 0.004624,
     "end_time": "2025-04-12T08:54:48.884004",
     "exception": false,
     "start_time": "2025-04-12T08:54:48.879380",
     "status": "completed"
    },
    "tags": []
   },
   "source": [
    "# Conclusion\n",
    "In the present analysis, BMI was found to be associated with a diagnosis of chronic kidney disease.\n",
    "To prevent the development of chronic kidney disease, education regarding exercise and diet may be necessary to avoid gaining too much weight.\n",
    "As an example, holding health classes for people with high BMI and distributing pamphlets on exercise and diet may be effective.\n",
    "It is possible that some items in this analysis were not found to be related because of the large difference in the number of people diagnosed with chronic kidney disease and those who were not diagnosed with chronic kidney disease.\n",
    "Therefore, a comparison of data on the same number of people diagnosed with chronic kidney disease and healthy people is considered necessary in the future."
   ]
  }
 ],
 "metadata": {
  "kaggle": {
   "accelerator": "none",
   "dataSources": [
    {
     "datasetId": 5187141,
     "sourceId": 8658224,
     "sourceType": "datasetVersion"
    }
   ],
   "dockerImageVersionId": 31012,
   "isGpuEnabled": false,
   "isInternetEnabled": true,
   "language": "python",
   "sourceType": "notebook"
  },
  "kernelspec": {
   "display_name": "Python 3",
   "language": "python",
   "name": "python3"
  },
  "language_info": {
   "codemirror_mode": {
    "name": "ipython",
    "version": 3
   },
   "file_extension": ".py",
   "mimetype": "text/x-python",
   "name": "python",
   "nbconvert_exporter": "python",
   "pygments_lexer": "ipython3",
   "version": "3.11.11"
  },
  "papermill": {
   "default_parameters": {},
   "duration": 10.83403,
   "end_time": "2025-04-12T08:54:49.507787",
   "environment_variables": {},
   "exception": null,
   "input_path": "__notebook__.ipynb",
   "output_path": "__notebook__.ipynb",
   "parameters": {},
   "start_time": "2025-04-12T08:54:38.673757",
   "version": "2.6.0"
  }
 },
 "nbformat": 4,
 "nbformat_minor": 5
}
